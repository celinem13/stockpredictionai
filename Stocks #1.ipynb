{
 "cells": [
  {
   "cell_type": "markdown",
   "id": "296b5d15",
   "metadata": {},
   "source": [
    "# Original Idea: Google"
   ]
  },
  {
   "cell_type": "markdown",
   "id": "3f706f19",
   "metadata": {},
   "source": [
    "So... I originally wanted to work on a Google Stock Prediction AI. I managed to get an AI working that has analyzed the last decade of stocks from Google (Class C) and created 2 line charts to compare the next year and the stock over the last decade. I found data off of Kaggle and used that to train my AI. I haven't been able to label the chart with dates yet which is the most important part. For the most part, the AI was correct about stock prices about to rise this week so I bought stocks earlier and sold Friday morning."
   ]
  },
  {
   "cell_type": "code",
   "execution_count": null,
   "id": "a9b84867",
   "metadata": {},
   "outputs": [],
   "source": [
    "import matplotlib.pyplot as plt\n",
    "import numpy as np\n",
    "import pandas as pd\n",
    "from keras.layers import Dense\n",
    "from keras.layers import Dropout\n",
    "from keras.layers import LSTM\n",
    "from keras.models import Sequential\n",
    "from sklearn.preprocessing import MinMaxScaler\n",
    "\n",
    "dataset_train = pd.read_csv(\"/content/google.csv\")\n",
    "dataset_train.head()\n",
    "\n",
    "training_set = dataset_train.iloc[:, 1:2].values\n",
    "print(training_set)\n",
    "print(training_set.shape)\n",
    "\n",
    "my_scaled = MinMaxScaler(feature_range=(0, 1))\n",
    "scaled_training_set = my_scaled.fit_transform(training_set)\n",
    "\n",
    "print(scaled_training_set)\n",
    "\n",
    "x_train = []\n",
    "y_train = []\n",
    "for i in range(60, 1258):\n",
    "    x_train.append(scaled_training_set[i - 60:i, 0])\n",
    "    y_train.append((scaled_training_set[i, 0]))\n",
    "x_train = np.array(x_train)\n",
    "y_train = np.array(y_train)\n",
    "print(x_train.shape)\n",
    "print(y_train.shape)\n",
    "\n",
    "# Reshaping\n",
    "x_train = np.reshape(x_train, (x_train.shape[0], x_train.shape[1], 1))\n",
    "\n",
    "model = Sequential()\n",
    "\n",
    "model.add(LSTM(units=50, return_sequences=True, input_shape=(x_train.shape[1], 1)))\n",
    "model.add(Dropout(0.2))\n",
    "\n",
    "model.add(LSTM(units=50, return_sequences=True))\n",
    "model.add(Dropout(0.2))\n",
    "\n",
    "model.add(LSTM(units=50, return_sequences=True))\n",
    "model.add(Dropout(0.2))\n",
    "\n",
    "model.add(LSTM(units=50))\n",
    "model.add(Dropout(0.2))\n",
    "\n",
    "model.add(Dense(units=1))\n",
    "\n",
    "model.compile(optimizer='adam', loss='mean_squared_error')\n",
    "model.fit(x_train, y_train, epochs=100, batch_size=32)\n",
    "\n",
    "dataset_test = pd.read_csv(\"/content/google.csv\")\n",
    "actual_stock_price = dataset_test.iloc[:, 1:2].values\n",
    "\n",
    "dataset_total = pd.concat((dataset_train['Open'], dataset_test['Open']), axis=0)\n",
    "inputs = dataset_total[len(dataset_total) - len(dataset_test) - 60:].values\n",
    "\n",
    "x_test = []\n",
    "for i in range(60, 80):\n",
    "    x_test.append(inputs[i - 60:i])\n",
    "x_test = np.array(x_test)\n",
    "x_test = np.reshape(x_test, (x_test.shape[0], x_test.shape[1], 1))\n",
    "\n",
    "predicted_stock_price = model.predict(x_test)\n",
    "predicted_stock_price = my_scaled.inverse_transform(predicted_stock_price)\n",
    "\n",
    "plt.plot(predicted_stock_price, color='blue', label='Predicted Google Stock Price')\n",
    "plt.title('Google Stock Price Prediction')\n",
    "plt.xlabel('Time')\n",
    "plt.ylabel('Google Stock Price')\n",
    "plt.legend()\n",
    "plt.show()\n",
    "plt.plot(actual_stock_price, color='red', label='Actual Google Stock Price')\n",
    "plt.title('Google Stock Price Prediction')\n",
    "plt.xlabel('Time')\n",
    "plt.ylabel('Google Stock Price')\n",
    "plt.legend()\n",
    "plt.show()"
   ]
  },
  {
   "attachments": {},
   "cell_type": "markdown",
   "id": "fe9dfea9",
   "metadata": {},
   "source": [
    "# New Idea: Animal Crossing"
   ]
  },
  {
   "cell_type": "markdown",
   "id": "d4bfebf0",
   "metadata": {},
   "source": [
    "I recently got into a new game on the Nintendo Switch called Animal Crossing: New Horizons. The game had a minigame in itself called the Stalk Market. It is very similar to the real world stock market except there is only one company you can make buy your \"stalks\" from: Sow Joan's Turnip Farm. When I say stalks, I mean turnip stalks. You can only buy turnip stalks on Sundays between the price of $85 to $110, but you have to sell the turnip stalks by Saturday night at 10 pm or else they will spoil Sunday night. I thought it would be a good idea to try and mimic the stalk market with Nintendo's stock. However, Nintendo wasn't a part of Investopedia. I had to stick with Google. "
   ]
  },
  {
   "attachments": {},
   "cell_type": "markdown",
   "id": "1f8faa3c",
   "metadata": {},
   "source": [
    "| Date | Morning Stalk Prices | Afternoon Stalk Prices | Time Bought | Date Bought| Stalk Buying Price | Amount of Stalk Bought | Time Sold | Date Sold | Stalk Selling Price | Amount of Stalk Sold | Total |\n",
    "| --- | --- | --- | --- | --- | --- | --- | --- | --- | --- | --- | --- |\n",
    "| 11/14/2021 | NaN | NaN | 9:06 AM | 11/14/2021 | 100 | 4000 | NaN | NaN | NaN |NaN | -400000 |\n",
    "| 11/15/2021 | 65 | 59 | NaN | NaN | NaN | NaN | NaN | NaN | NaN |NaN | 0 |\n",
    "| 11/16/2021 | 138 | 140 | NaN | NaN | NaN | NaN | NaN | NaN | NaN |NaN | 0 |\n",
    "| 11/17/2021 | 116 | 150 | NaN | NaN | NaN | NaN | NaN | NaN | NaN |NaN | 0 |\n",
    "| 11/18/2021 | 225 | 609 | NaN | NaN | NaN | NaN | 4:31 pm | 11/18/2021 | 609 | 4000 | 2436000 |\n",
    "| 11/19/2021 | 308 | 102 | NaN | NaN | NaN | NaN | NaN | NaN | NaN |NaN | 0 |"
   ]
  },
  {
   "cell_type": "markdown",
   "id": "e78e2891",
   "metadata": {},
   "source": [
    "It was interesting to see the Google stock trends were very similar to the Stalk Market trends in Animal Crossing. In order to be sure I was making the right choices, there were online turnip calculators and prediction AI's available to help players make the right choices at the right time. "
   ]
  },
  {
   "cell_type": "markdown",
   "id": "67b62a1b",
   "metadata": {},
   "source": [
    "https://ac-turnip.com/"
   ]
  },
  {
   "cell_type": "markdown",
   "id": "b3d82c91",
   "metadata": {},
   "source": [
    "https://turnipprophet.io/"
   ]
  },
  {
   "cell_type": "code",
   "execution_count": null,
   "id": "daefe3b0",
   "metadata": {},
   "outputs": [],
   "source": []
  }
 ],
 "metadata": {
  "kernelspec": {
   "display_name": "Python 3",
   "language": "python",
   "name": "python3"
  },
  "language_info": {
   "codemirror_mode": {
    "name": "ipython",
    "version": 3
   },
   "file_extension": ".py",
   "mimetype": "text/x-python",
   "name": "python",
   "nbconvert_exporter": "python",
   "pygments_lexer": "ipython3",
   "version": "3.8.8"
  }
 },
 "nbformat": 4,
 "nbformat_minor": 5
}
