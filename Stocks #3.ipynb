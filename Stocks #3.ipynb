{
 "cells": [
  {
   "cell_type": "markdown",
   "id": "caf6bc87",
   "metadata": {},
   "source": [
    "# Stocks 3 Update"
   ]
  },
  {
   "cell_type": "markdown",
   "id": "03157c51",
   "metadata": {},
   "source": [
    "The stock prices weren't any better this week than the last week. In Animal Crossing, the stocks tanking are similar to what is happening in real life. Buying price was low as well which indicated a low spike/decreasing selling price this week."
   ]
  },
  {
   "cell_type": "markdown",
   "id": "0b1e2636",
   "metadata": {},
   "source": [
    "| Date | Morning Stalk Prices | Afternoon Stalk Prices | Time Bought | Date Bought| Stalk Buying Price | Amount of Stalk Bought | Time Sold | Date Sold | Stalk Selling Price | Amount of Stalk Sold | Total |\n",
    "| --- | --- | --- | --- | --- | --- | --- | --- | --- | --- | --- | --- |\n",
    "| 11/27/2021 | 60 | 65 |NaN | NaN | NaN | NaN| 8:32 PM | 11/27/2021 | 65 |4000 | 260000 |\n",
    "| 11/28/2021 | NaN | NaN | 7:11 AM | 11/28/2021 | 95 | 4000 | NaN | NaN | NaN |NaN | -380000 |\n",
    "| 11/29/2021 | 81 | 79 | NaN | NaN | NaN | NaN | NaN | NaN | NaN |NaN | 0 |\n",
    "| 11/30/2021 | 75 | 77 | NaN | NaN | NaN | NaN | NaN | NaN | NaN |NaN | 0 |\n",
    "| 12/1/2021 | 70 | 69 | NaN | NaN | NaN | NaN | NaN | NaN | NaN |NaN | 0 |\n",
    "| 12/2/2021 | 71 | 62 | NaN | NaN | NaN | NaN | NaN | NaN| NaN | NaN | 0 |\n",
    "| 12/3/2021 | 53 | 59 | NaN | NaN | NaN | NaN | NaN | NaN | NaN |NaN | 0 |"
   ]
  },
  {
   "cell_type": "markdown",
   "id": "165c567f",
   "metadata": {},
   "source": [
    "It's possible next week will be another tank."
   ]
  }
 ],
 "metadata": {
  "kernelspec": {
   "display_name": "Python 3",
   "language": "python",
   "name": "python3"
  },
  "language_info": {
   "codemirror_mode": {
    "name": "ipython",
    "version": 3
   },
   "file_extension": ".py",
   "mimetype": "text/x-python",
   "name": "python",
   "nbconvert_exporter": "python",
   "pygments_lexer": "ipython3",
   "version": "3.8.8"
  }
 },
 "nbformat": 4,
 "nbformat_minor": 5
}
